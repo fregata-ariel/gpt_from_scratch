{
 "cells": [
  {
   "cell_type": "code",
   "execution_count": null,
   "id": "0",
   "metadata": {},
   "outputs": [],
   "source": [
    "import torch\n",
    "import torch.nn as nn\n",
    "from torch.nn import functional as F\n",
    "from pathlib import Path"
   ]
  },
  {
   "cell_type": "code",
   "execution_count": null,
   "id": "1",
   "metadata": {},
   "outputs": [],
   "source": [
    "# hyperparameters\n",
    "batch_size = 32 # how many independent sequences will we process in parallel?\n",
    "block_size = 8 # what is the maximum context length for predictions?\n",
    "max_iters = 30000\n",
    "eval_interval = 300\n",
    "learning_rate = 1e-2\n",
    "device = 'cuda' if torch.cuda.is_available() else 'cpu'\n",
    "eval_iters = 200\n",
    "train_val_split = 0.9"
   ]
  },
  {
   "cell_type": "code",
   "execution_count": null,
   "id": "2",
   "metadata": {},
   "outputs": [],
   "source": [
    "# dataset url\n",
    "url = 'https://raw.githubusercontent.com/karpathy/char-rnn/master/data/tinyshakespeare/input.txt'"
   ]
  },
  {
   "cell_type": "code",
   "execution_count": null,
   "id": "3",
   "metadata": {},
   "outputs": [],
   "source": [
    "class Dataset:\n",
    "    '''\n",
    "    データセット構成クラス\n",
    "    '''\n",
    "    def __init__(self, filepath: Path, train_val_split: float, device: str, ):\n",
    "        text = self.prepare_text(filepath)\n",
    "        if text == '':\n",
    "            raise ValueError(\"テキストデータの読み込みに失敗しました。\")\n",
    "        self.__train_val_split = train_val_split\n",
    "        self.__device = device\n",
    "        self.__chars = sorted(list(set(text)))\n",
    "        self.vocab_size = len(self.__chars)\n",
    "        self.__stoi = { ch:i for i, ch in enumerate(self.__chars)}\n",
    "        self.__itos = { i:ch for i, ch in enumerate(self.__chars)}\n",
    "        self.encode = lambda s: [self.__stoi[c] for c in s] # encoder: take a string, output a list of integers\n",
    "        self.decode = lambda l: ''.join([self.__itos[i] for i in l]) # decoder: take a list of integers, output a string\n",
    "        self.__data = torch.tensor(self.encode(text), dtype=torch.long)\n",
    "\n",
    "    def prepare_text(self, filepath: Path, url: str|None = None) -> str:\n",
    "        text = ''\n",
    "        # テキストデータの読み込み\n",
    "        if not filepath.exists():\n",
    "            # ファイルが存在しない場合はダウンロード\n",
    "            import requests\n",
    "            if url is None:\n",
    "                # default dataset: tiny shakespeare\n",
    "                url = 'https://raw.githubusercontent.com/karpathy/char-rnn/master/data/tinyshakespeare/input.txt'\n",
    "            response = requests.get(url)\n",
    "            response.raise_for_status()  # エラーチェック\n",
    "            with open(filepath, 'w', encoding='utf-8') as f:\n",
    "                f.write(response.text)\n",
    "            text = response.text\n",
    "        else:\n",
    "            with open(filepath, 'r', encoding='utf-8') as f:\n",
    "                text = f.read()\n",
    "        return text\n",
    "    \n",
    "    def get_data(self, tag: str):\n",
    "        n = int(self.__train_val_split * len(self.__data))\n",
    "\n",
    "        if tag == 'train':\n",
    "            return self.__data[:n]\n",
    "        elif tag == 'val':\n",
    "            return self.__data[n:]\n",
    "        else:\n",
    "            raise ValueError(\"tagは'train'か'val'で指定してください。\")\n",
    "        \n",
    "    def get_batch(self, tag: str):\n",
    "        _data = self.get_data(tag)\n",
    "        ix = torch.randint(len(_data) - block_size, (batch_size,))\n",
    "        x = torch.stack([_data[i:i+block_size] for i in ix])\n",
    "        y = torch.stack([_data[i+1:i+block_size+1] for i in ix])\n",
    "        x, y = x.to(self.__device), y.to(self.__device)\n",
    "        return x, y"
   ]
  },
  {
   "cell_type": "code",
   "execution_count": null,
   "id": "4",
   "metadata": {},
   "outputs": [],
   "source": [
    "# super simple bigram model\n",
    "class BigramLanguageModel(nn.Module):\n",
    "    def __init__(self, vocab_size:int) -> None:\n",
    "        super().__init__()\n",
    "        # each token directory reads of the logits for the net token from a lookup table\n",
    "        self.token_embedding_table = nn.Embedding(num_embeddings=vocab_size, embedding_dim=vocab_size)\n",
    "\n",
    "    def forward(self, idx, targets:torch.Tensor|None=None):\n",
    "        # idx and targets are both (B, T) tensor of integers\n",
    "        logits = self.token_embedding_table(idx)\n",
    "        if targets is None:\n",
    "            loss = None\n",
    "        elif targets is not None:\n",
    "            B, T, C = logits.shape\n",
    "            logits = logits.view(B*T, C)\n",
    "            targets = targets.view(B*T)\n",
    "            loss = F.cross_entropy(logits, targets)\n",
    "        else:\n",
    "            loss = None\n",
    "\n",
    "        return logits, loss\n",
    "\n",
    "    def generate(self, idx, max_new_token):\n",
    "        # idx is (B, T) array of indicies in the current context\n",
    "        for _ in range(max_new_token):\n",
    "            # get the predictions\n",
    "            logits, loss = self(idx)\n",
    "            # focus only on the last time step\n",
    "            logits = logits[:, -1, :] # become (B, C)\n",
    "            # apply softmax to get probabilities\n",
    "            probs = F.softmax(logits, dim=-1) # (B, C)\n",
    "            # sample from the distribution\n",
    "            idx_next = torch.multinomial(probs, num_samples=1) # (B, 1)\n",
    "            # append sampled index to the running sequence\n",
    "            idx = torch.cat((idx, idx_next), dim=1) # (B, T+1)\n",
    "        return idx"
   ]
  },
  {
   "cell_type": "code",
   "execution_count": null,
   "id": "5",
   "metadata": {},
   "outputs": [],
   "source": [
    "@torch.no_grad()\n",
    "def estimate_loss(model:nn.Module, dataset_handler:Dataset) -> dict[str, float]:\n",
    "    out = {}\n",
    "    model.eval()\n",
    "    for split in ['train', 'val']:\n",
    "        losses = torch.zeros(eval_iters)\n",
    "        for k in range(eval_iters):\n",
    "            X, Y = dataset_handler.get_batch(split)\n",
    "            logits, loss = model(X, Y)\n",
    "            losses[k] = loss.item()\n",
    "        out[split] = losses.mean()\n",
    "    model.train()\n",
    "    return out"
   ]
  },
  {
   "cell_type": "code",
   "execution_count": null,
   "id": "6",
   "metadata": {},
   "outputs": [],
   "source": [
    "# initialize dataset handler\n",
    "dataset_handler = Dataset(filepath=Path('../datasets/input.txt'), train_val_split=train_val_split, device=device)"
   ]
  },
  {
   "cell_type": "code",
   "execution_count": null,
   "id": "7",
   "metadata": {},
   "outputs": [],
   "source": [
    "model = BigramLanguageModel(vocab_size=dataset_handler.vocab_size)\n",
    "m = model.to(device)"
   ]
  },
  {
   "cell_type": "code",
   "execution_count": null,
   "id": "8",
   "metadata": {},
   "outputs": [],
   "source": [
    "# create a PyTorch optimizer\n",
    "optimizer = torch.optim.AdamW(m.parameters(), lr=1e-3)"
   ]
  },
  {
   "cell_type": "code",
   "execution_count": null,
   "id": "9",
   "metadata": {},
   "outputs": [],
   "source": [
    "for iter in range(max_iters):\n",
    "    # every once in a while evaluate the loss on train and val sets\n",
    "    if iter % eval_interval == 0:\n",
    "        losses = estimate_loss(m, dataset_handler)\n",
    "        print(f\"step {iter}: train loss {losses['train']:.4f}, val loss {losses['val']:.4f}\")\n",
    "    \n",
    "    # sample a batch of data\n",
    "    xb, yb = dataset_handler.get_batch('train')\n",
    "\n",
    "    # evaluate the loss\n",
    "    logits, loss = m(xb ,yb)\n",
    "    optimizer.zero_grad(set_to_none=True)\n",
    "    loss.backward()\n",
    "    optimizer.step()"
   ]
  },
  {
   "cell_type": "code",
   "execution_count": null,
   "id": "10",
   "metadata": {},
   "outputs": [],
   "source": [
    "# generate from the model\n",
    "context = torch.zeros((1, 1), dtype=torch.long, device=device)\n",
    "encoded_batch = m.generate(idx = context, max_new_token=500)\n",
    "print(dataset_handler.decode(encoded_batch[0].tolist()))"
   ]
  },
  {
   "cell_type": "code",
   "execution_count": null,
   "id": "11",
   "metadata": {},
   "outputs": [],
   "source": []
  }
 ],
 "metadata": {
  "kernelspec": {
   "display_name": "gpt_from_scratch",
   "language": "python",
   "name": "python3"
  },
  "language_info": {
   "codemirror_mode": {
    "name": "ipython",
    "version": 3
   },
   "file_extension": ".py",
   "mimetype": "text/x-python",
   "name": "python",
   "nbconvert_exporter": "python",
   "pygments_lexer": "ipython3",
   "version": "3.12.3"
  }
 },
 "nbformat": 4,
 "nbformat_minor": 5
}
