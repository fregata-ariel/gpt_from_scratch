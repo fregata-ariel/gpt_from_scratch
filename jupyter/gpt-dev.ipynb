{
 "cells": [
  {
   "cell_type": "code",
   "execution_count": null,
   "id": "0",
   "metadata": {},
   "outputs": [],
   "source": [
    "!mkdir -p ../datasets && cd ../datasets && if [ ! -f \"input.txt\" ]; then curl https://raw.githubusercontent.com/karpathy/char-rnn/master/data/tinyshakespeare/input.txt -o input.txt; fi && cd ../jupyter"
   ]
  },
  {
   "cell_type": "code",
   "execution_count": null,
   "id": "1",
   "metadata": {},
   "outputs": [],
   "source": [
    "# read it in to inspect it\n",
    "with open('../datasets/input.txt', 'r', encoding='utf-8') as f:\n",
    "    text = f.read()\n",
    "print(f'length of dataset in characters: {len(text):,}')"
   ]
  },
  {
   "cell_type": "code",
   "execution_count": null,
   "id": "2",
   "metadata": {},
   "outputs": [],
   "source": [
    "print(text[:1000]) # check first 1000 chars"
   ]
  },
  {
   "cell_type": "code",
   "execution_count": null,
   "id": "3",
   "metadata": {},
   "outputs": [],
   "source": [
    "# here are all the unique characters that occur in this text file\n",
    "chars = sorted(list(set(text)))\n",
    "vocab_size = len(chars)"
   ]
  },
  {
   "cell_type": "code",
   "execution_count": null,
   "id": "4",
   "metadata": {},
   "outputs": [],
   "source": [
    "print(''.join(chars))\n",
    "print(vocab_size)"
   ]
  },
  {
   "cell_type": "code",
   "execution_count": null,
   "id": "5",
   "metadata": {},
   "outputs": [],
   "source": [
    "# create a mapping from charactors to integers\n",
    "stoi = { ch:i for i, ch in enumerate(chars)}\n",
    "itos = { i:ch for i, ch in enumerate(chars)}\n",
    "encode = lambda s: [stoi[c] for c in s] # encoder: take a string, output a list of integers\n",
    "decode = lambda l: ''.join([itos[i] for i in l]) # decoder: take a list of integers, output a string"
   ]
  },
  {
   "cell_type": "code",
   "execution_count": null,
   "id": "6",
   "metadata": {},
   "outputs": [],
   "source": [
    "print(encode(\"hi! there\"))\n",
    "print(decode(encode(\"hi! there\")))"
   ]
  },
  {
   "cell_type": "code",
   "execution_count": null,
   "id": "7",
   "metadata": {},
   "outputs": [],
   "source": [
    "import torch\n",
    "data = torch.tensor(encode(text), dtype=torch.long)"
   ]
  },
  {
   "cell_type": "code",
   "execution_count": null,
   "id": "8",
   "metadata": {},
   "outputs": [],
   "source": [
    "print(data.shape, data.dtype)\n",
    "print(data[:1000])"
   ]
  },
  {
   "cell_type": "code",
   "execution_count": null,
   "id": "9",
   "metadata": {},
   "outputs": [],
   "source": [
    "# Let's now split up the data into train and validation sets\n",
    "n = int(0.9 * len(data))\n",
    "train_data = data[:n]\n",
    "val_data = data[n:]"
   ]
  },
  {
   "cell_type": "code",
   "execution_count": null,
   "id": "10",
   "metadata": {},
   "outputs": [],
   "source": [
    "block_size = 8\n",
    "train_data[:block_size + 1]"
   ]
  },
  {
   "cell_type": "code",
   "execution_count": null,
   "id": "11",
   "metadata": {},
   "outputs": [],
   "source": [
    "x = train_data[:block_size]\n",
    "y = train_data[1:block_size+1]\n",
    "for t in range(block_size):\n",
    "    context = x[:t+1]\n",
    "    target  = y[t]\n",
    "    print(f\"when input is {context} the target: {target}\")"
   ]
  },
  {
   "cell_type": "code",
   "execution_count": null,
   "id": "12",
   "metadata": {},
   "outputs": [],
   "source": [
    "torch.manual_seed(1337)\n",
    "batch_size = 4  # how many independent sequences will we process in parallel?\n",
    "block_size = 8  # what is the maximum context length for predictions?"
   ]
  },
  {
   "cell_type": "code",
   "execution_count": null,
   "id": "13",
   "metadata": {},
   "outputs": [],
   "source": [
    "def get_batch(split):\n",
    "    # generate a small batch of data of inputs x and targets y\n",
    "    data = train_data if split == 'train' else val_data\n",
    "    ix = torch.randint(len(data) - block_size, (batch_size,))\n",
    "    x = torch.stack([data[i:i+block_size] for i in ix])\n",
    "    y = torch.stack([data[i+1:i+block_size+1] for i in ix])\n",
    "    return x, y"
   ]
  },
  {
   "cell_type": "code",
   "execution_count": null,
   "id": "14",
   "metadata": {},
   "outputs": [],
   "source": [
    "xb, yb = get_batch('train')"
   ]
  },
  {
   "cell_type": "code",
   "execution_count": null,
   "id": "15",
   "metadata": {},
   "outputs": [],
   "source": [
    "print('inputs:')\n",
    "print(xb.shape)\n",
    "print(xb)\n",
    "print('targets:')\n",
    "print(yb.shape)\n",
    "print(yb)\n",
    "\n",
    "print('------')\n",
    "\n",
    "for b in range(batch_size):\n",
    "    for t in range(block_size):\n",
    "        context = xb[b, :t+1]\n",
    "        target = yb[b, t]\n",
    "        print(f\"when input is {context.tolist()} the target: {target}\")"
   ]
  },
  {
   "cell_type": "markdown",
   "id": "16",
   "metadata": {},
   "source": [
    "`self.token_embedding_table = nn.Embedding(vocab_size, vocab_size)`は、**各単語（トークン）に対する「次にどの単語が来るか」の予測スコア（ロジット）を格納するルックアップテーブル**を作成する役割を担っています。\n",
    "\n",
    "このBigramモデルの文脈で、もう少し具体的に解説します。\n",
    "\n",
    "---\n",
    "\n",
    "### ## `nn.Embedding`の基本\n",
    "\n",
    "`nn.Embedding`は、PyTorchにおいて単語のような離散的なIDを、密なベクトル表現（埋め込みベクトル）に変換するためのレイヤーです。基本的には巨大な行列であり、**単語のIDをインデックスとして、対応する行ベクトルを抜き出す**という動作をします。\n",
    "\n",
    "`nn.Embedding(num_embeddings, embedding_dim)` の引数は以下の通りです。\n",
    "* `num_embeddings`: 埋め込む単語の総数。通常は語彙サイズ (`vocab_size`) を指定します。\n",
    "* `embedding_dim`: 各単語を表現するベクトルの次元数。\n",
    "\n",
    "---\n",
    "\n",
    "### ## このモデルにおける`nn.Embedding`の特別な役割\n",
    "\n",
    "この`BigramLanguageModel`では、`embedding_dim`に`vocab_size`が指定されています。これが重要なポイントです。\n",
    "\n",
    "`self.token_embedding_table = nn.Embedding(vocab_size, vocab_size)`\n",
    "\n",
    "これは、サイズが `(vocab_size, vocab_size)` の行列を作成することを意味します。\n",
    "\n",
    "* **行 (Rows)**: `vocab_size`個の行は、語彙に含まれる各トークンに対応します。例えば、0番目の行はIDが0のトークン、1番目の行はIDが1のトークン...という具合です。\n",
    "* **列 (Columns)**: `vocab_size`個の列を持つベクトル（各行）が、**次にどのトークンが来るかの予測スコア（ロジット）**を表します。\n",
    "\n",
    "#### ### 処理の流れ\n",
    "\n",
    "1.  **入力**: `forward`メソッドに、トークンIDのシーケンス `idx` (shape: `(B, T)`、Bはバッチサイズ, Tはシーケンス長) が入力されます。\n",
    "2.  **ルックアップ**: `self.token_embedding_table(idx)` が実行されると、`idx` の各トークンIDに対応する行ベクトルがテーブルから抜き出されます。\n",
    "3.  **出力 (`logits`)**: 出力される `logits` のshapeは `(B, T, vocab_size)` となります。これは、入力シーケンスの各トークンに対して、「次に来る単語の候補（全`vocab_size`個）」それぞれの予測スコアを持っていることを意味します。\n",
    "\n",
    "\n",
    "\n",
    "#### ### なぜこれがBigramモデルなのか？\n",
    "\n",
    "**Bigramモデル**は、**直前の1つの単語だけを見て次の単語を予測**します。\n",
    "このコードはまさにその考え方を実装しています。\n",
    "\n",
    "* あるトークン（例: \"hello\"）が入力されると、`nn.Embedding`テーブルから \"hello\" に対応する行を引いてきます。\n",
    "* その行ベクトル（サイズ `vocab_size`）が、次に \"world\" が来る確率、\"there\" が来る確率、\"!\" が来る確率...といった、語彙の全単語に対する予測スコア（ロジット）そのものになるわけです。\n",
    "\n",
    "つまり、この `nn.Embedding` レイヤーは、単に単語をベクトル化するだけでなく、**「ある単語」から「次の単語の予測ロジット」へのマッピング**という、モデルの予測機能そのものを担っています。これがこのモデルの核心部分です。👍"
   ]
  },
  {
   "cell_type": "code",
   "execution_count": null,
   "id": "17",
   "metadata": {},
   "outputs": [],
   "source": [
    "import torch\n",
    "import torch.nn as nn\n",
    "from torch.nn import functional as F\n",
    "torch.manual_seed(1337)\n",
    "\n",
    "class BigramLanguageModel(nn.Module):\n",
    "    def __init__(self, vocab_size:int) -> None:\n",
    "        super().__init__()\n",
    "        # each token directory reads of the logits for the net token from a lookup table\n",
    "        self.token_embedding_table = nn.Embedding(num_embeddings=vocab_size, embedding_dim=vocab_size)\n",
    "\n",
    "    def forward(self, idx, targets:torch.Tensor|None=None):\n",
    "        # idx and targets are both (B, T) tensor of integers\n",
    "        logits = self.token_embedding_table(idx)\n",
    "        if target is None:\n",
    "            loss = None\n",
    "        elif targets is not None:\n",
    "            B, T, C = logits.shape\n",
    "            logits = logits.view(B*T, C)\n",
    "            targets = targets.view(B*T)\n",
    "            loss = F.cross_entropy(logits, targets)\n",
    "        else:\n",
    "            loss = None\n",
    "\n",
    "        return logits, loss\n",
    "    \n",
    "    def generate(self, idx, max_new_token):\n",
    "        # idx is (B, T) array of indicies in the current context\n",
    "        for _ in range(max_new_token):\n",
    "            # get the predictions\n",
    "            logits, loss = self(idx)\n",
    "            # focus only on the last time step\n",
    "            logits = logits[:, -1, :] # become (B, C)\n",
    "            # apply softmax to get probabilities\n",
    "            probs = F.softmax(logits, dim=-1) # (B, C)\n",
    "            # sample from the distribution\n",
    "            idx_next = torch.multinomial(probs, num_samples=1) # (B, 1)\n",
    "            # append sampled index to the running sequence\n",
    "            idx = torch.cat((idx, idx_next), dim=1) # (B, T+1)\n",
    "        return idx\n",
    "\n",
    "\n",
    "\n",
    "m = BigramLanguageModel(vocab_size)\n",
    "logits, loss = m(xb, yb)\n",
    "print(logits.shape)\n",
    "print(loss)\n",
    "\n",
    "print(decode(m.generate(idx = torch.zeros((1,1), dtype=torch.long), max_new_token=100)[0].tolist()))"
   ]
  },
  {
   "cell_type": "code",
   "execution_count": null,
   "id": "18",
   "metadata": {},
   "outputs": [],
   "source": [
    "# create a PyTorch optimizer\n",
    "optimizer = torch.optim.AdamW(m.parameters(), lr=1e-3)"
   ]
  },
  {
   "cell_type": "code",
   "execution_count": null,
   "id": "19",
   "metadata": {},
   "outputs": [],
   "source": [
    "batch_size = 32\n",
    "for steps in range(10000):\n",
    "\n",
    "    # sample a batch of data\n",
    "    xb, yb, = get_batch('train')\n",
    "\n",
    "    # evaluate the loss\n",
    "    logits, loss = m(xb, yb)\n",
    "    optimizer.zero_grad(set_to_none=True)\n",
    "    loss.backward()\n",
    "    optimizer.step()\n",
    "\n",
    "    print(loss.item())"
   ]
  },
  {
   "cell_type": "code",
   "execution_count": null,
   "id": "20",
   "metadata": {},
   "outputs": [],
   "source": [
    "print(decode(m.generate(idx = torch.zeros((1,1), dtype=torch.long), max_new_token=500)[0].tolist()))"
   ]
  },
  {
   "cell_type": "code",
   "execution_count": null,
   "id": "21",
   "metadata": {},
   "outputs": [],
   "source": []
  }
 ],
 "metadata": {
  "kernelspec": {
   "display_name": "gpt_from_scratch",
   "language": "python",
   "name": "python3"
  },
  "language_info": {
   "codemirror_mode": {
    "name": "ipython",
    "version": 3
   },
   "file_extension": ".py",
   "mimetype": "text/x-python",
   "name": "python",
   "nbconvert_exporter": "python",
   "pygments_lexer": "ipython3",
   "version": "3.12.3"
  }
 },
 "nbformat": 4,
 "nbformat_minor": 5
}
